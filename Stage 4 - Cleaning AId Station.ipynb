{
 "cells": [
  {
   "cell_type": "code",
   "execution_count": 1,
   "id": "addf9a56",
   "metadata": {},
   "outputs": [
    {
     "name": "stderr",
     "output_type": "stream",
     "text": [
      "C:\\Users\\Karina\\miniconda3\\lib\\site-packages\\requests\\__init__.py:109: RequestsDependencyWarning: urllib3 (2.2.2) or chardet (3.0.4)/charset_normalizer (2.0.4) doesn't match a supported version!\n",
      "  warnings.warn(\n"
     ]
    }
   ],
   "source": [
    "import requests\n",
    "import json\n",
    "import html\n",
    "import pandas as pd\n",
    "import time\n",
    "import re\n",
    "\n"
   ]
  },
  {
   "cell_type": "code",
   "execution_count": 2,
   "id": "83e23dd8",
   "metadata": {},
   "outputs": [],
   "source": [
    "years = ['2021', '2022', '2023', '2024']\n",
    "races = ['TOR330', 'TOR450']"
   ]
  },
  {
   "cell_type": "markdown",
   "id": "d6367b9b",
   "metadata": {},
   "source": [
    "## Looping through scraped data from 100X100trail"
   ]
  },
  {
   "cell_type": "code",
   "execution_count": null,
   "id": "605ac5de",
   "metadata": {},
   "outputs": [],
   "source": [
    "\n",
    "TOR330_dict = {}\n",
    "TOR450_dict = {}\n",
    "races = ['TOR330','TOR450']\n",
    "years = ['2024']\n",
    "\n",
    "for race in races:\n",
    "    for year in years:\n",
    "        df = pd.read_excel(f'{race} Data/100x100trail/aid_station_{race}_{year}.xlsx')\n",
    "\n",
    "        # reading time column as a date time \n",
    "        df['Time'] = pd.to_datetime(df['Time'])\n",
    "\n",
    "        # Store the DataFrame in the dictionary with a key like 'TOR330_2021'\n",
    "        if race == 'TOR330':\n",
    "            TOR330_dict[f'{race}_{year}'] = df\n",
    "        else:\n",
    "            TOR450_dict[f'{race}_{year}'] = df\n",
    "\n",
    "        print(f\"Data read from f'{race}_{year}.xlsx'\")\n"
   ]
  },
  {
   "cell_type": "code",
   "execution_count": null,
   "id": "e4bd2aa7",
   "metadata": {},
   "outputs": [],
   "source": [
    "# Append using pd.concat\n",
    "TOR450_df = pd.concat(TOR450_dict)\n",
    "\n",
    "# Append using pd.concat\n",
    "TOR330_df = pd.concat(TOR330_dict)"
   ]
  },
  {
   "cell_type": "markdown",
   "id": "30bc3f50",
   "metadata": {},
   "source": [
    "### Reading in TORX dates extracted from DUV"
   ]
  },
  {
   "cell_type": "code",
   "execution_count": null,
   "id": "9da753ec",
   "metadata": {},
   "outputs": [],
   "source": [
    "file = f'Database Data/TORX_duv_dates_df.xlsx'\n",
    "dates_duv_df = pd.read_excel(file)\n",
    "\n",
    "# Drop the intermediate columns if they're no longer needed\n",
    "dates_duv_df = dates_duv_df.drop(columns=['Day_of_Week Start_Date'])    "
   ]
  },
  {
   "cell_type": "markdown",
   "id": "63993ddd",
   "metadata": {},
   "source": [
    "### Adding dates into TRO330 and TOR4450"
   ]
  },
  {
   "cell_type": "code",
   "execution_count": null,
   "id": "a2af5c28",
   "metadata": {},
   "outputs": [],
   "source": [
    "TOR450_df['Year'] = TOR450_df['Year'].astype('str')\n",
    "dates_duv_df['Year'] = dates_duv_df['Year'].astype('str')\n",
    "\n",
    "# Merging on two columns: 'Race' and 'Year'\n",
    "TOR450_merged_df = pd.merge(TOR450_df, dates_duv_df, on=['Race', 'Year'], how='inner')\n",
    "\n",
    "# have I dropped any rows?\n",
    "print(TOR450_merged_df.shape)\n",
    "print(merged_df.shape)\n",
    "\n",
    "checking_PETTORALI = TOR450_merged_df[TOR450_merged_df['Aid Staton'] == 'PETTORALI']\n",
    "\n",
    "print(checking_PETTORALI['Aid Staton'].unique())\n",
    "print(checking_PETTORALI['Place'].unique())\n",
    "\n",
    "TOR450_merged_df = TOR450_merged_df[TOR450_merged_df['Aid Staton'] != 'PETTORALI']\n",
    "print(TOR450_merged_df.shape)"
   ]
  },
  {
   "cell_type": "code",
   "execution_count": null,
   "id": "212d4039",
   "metadata": {},
   "outputs": [],
   "source": [
    "TOR330_df['Year'] = TOR330_df['Year'].astype('str')\n",
    "dates_duv_df['Year'] = dates_duv_df['Year'].astype('str')\n",
    "\n",
    "# Merging on two columns: 'Race' and 'Year'\n",
    "TOR330_merged_df = pd.merge(TOR330_df, dates_duv_df, on=['Race', 'Year'], how='inner')\n",
    "\n",
    "# have I dropped any rows?\n",
    "print(TOR330_merged_df.shape)\n",
    "print(merged_df.shape)\n",
    "\n",
    "print(checking_PETTORALI['Aid Staton'].unique())\n",
    "print(checking_PETTORALI['Place'].unique())\n",
    "\n",
    "# TOR330_merged_df = TOR330_merged_df[TOR450_merged_df['Aid Staton'] != 'PETTORALI']\n",
    "print(TOR330_merged_df.shape)"
   ]
  },
  {
   "cell_type": "code",
   "execution_count": null,
   "id": "c1b67d63",
   "metadata": {},
   "outputs": [],
   "source": [
    "TOR330_merged_df"
   ]
  },
  {
   "cell_type": "code",
   "execution_count": null,
   "id": "8d7175df",
   "metadata": {},
   "outputs": [],
   "source": []
  },
  {
   "cell_type": "markdown",
   "id": "3ee6bddf",
   "metadata": {},
   "source": [
    "### Extacting TOR330 Aid Station in correct order"
   ]
  },
  {
   "cell_type": "code",
   "execution_count": null,
   "id": "013ea3d9",
   "metadata": {},
   "outputs": [],
   "source": [
    "TOR330_2017_aid_station_df = aid_station_TORX_df[f'TOR330_2021']\n",
    "TOR330_2017_Paul_Tierney_df = TOR330_2017_aid_station_df[TOR330_2017_aid_station_df['Name'] == 'Colle Franco']\n",
    "\n",
    "TOR330_aid_station_list= list(TOR330_2017_Paul_Tierney_df['Place'].unique())\n",
    "TOR330_aid_station_list = reversed(TOR330_aid_station_list)\n",
    "\n",
    "for TOR330_aid_station in TOR330_aid_station_list:\n",
    "    TOR330_aid_station = TOR330_aid_station.split('|')[0].strip()\n",
    "#     TOR330_aid_station = TOR330_aid_station.split(' - ')[1].strip()\n",
    "    \n",
    "    # Apply regex to remove leading digits and spaces\n",
    "    TOR330_aid_station = re.sub(r'\\s*\\d+ - ', '', TOR330_aid_station)\n",
    "    # replacing 'Rif.' with 'Rifugio'\n",
    "    TOR330_aid_station = re.sub(r'Rif.', 'Rifugio', TOR330_aid_station)         \n",
    "    # replacing 'Biv.' with 'Bivacco'\n",
    "    TOR330_aid_station = re.sub(r'Biv.', 'Bivacco', TOR330_aid_station)\n",
    "    print(TOR330_aid_station)"
   ]
  },
  {
   "cell_type": "markdown",
   "id": "e4291cbc",
   "metadata": {},
   "source": [
    "### Extacting TOR450 Aid Station in correct order"
   ]
  },
  {
   "cell_type": "code",
   "execution_count": null,
   "id": "36d06373",
   "metadata": {},
   "outputs": [],
   "source": [
    "TOR450_2023_aid_station_df = aid_station_TORX_df[f'TOR450_2023']\n",
    "TOR450_2023_Paul_Tierney_df = TOR450_2023_aid_station_df[TOR450_2023_aid_station_df['Name'] == 'Tierney Paul']\n",
    "\n",
    "TOR450_aid_station_list= list(TOR450_2023_Paul_Tierney_df['Aid Staton'].unique())\n",
    "TOR450_aid_station_list = reversed(TOR450_aid_station_list)\n",
    "\n",
    "for TOR450_aid_station in TOR450_aid_station_list:\n",
    "    print(TOR450_aid_station)"
   ]
  },
  {
   "cell_type": "code",
   "execution_count": null,
   "id": "4d7689d1",
   "metadata": {},
   "outputs": [],
   "source": []
  },
  {
   "cell_type": "code",
   "execution_count": null,
   "id": "f0a1707e",
   "metadata": {},
   "outputs": [],
   "source": []
  },
  {
   "cell_type": "markdown",
   "id": "e5a8e886",
   "metadata": {},
   "source": [
    "#### Extracting Place of retirement"
   ]
  },
  {
   "cell_type": "code",
   "execution_count": null,
   "id": "16f374a1",
   "metadata": {},
   "outputs": [],
   "source": [
    "df[df['Place'].str.contains('RITIRO')]"
   ]
  },
  {
   "cell_type": "code",
   "execution_count": null,
   "id": "6ef8c0aa",
   "metadata": {},
   "outputs": [],
   "source": [
    "retired_df = df[df['Place'].str.contains('RITIRO')]\n",
    "\n",
    "retired_df['Retired1'] =  retired_df['Place'].str.split('RITIRO').str.get(-1)\n",
    "\n",
    "# retired_df['Place'].str.extract(r'RITIRO')\n",
    "retired_df"
   ]
  },
  {
   "cell_type": "code",
   "execution_count": null,
   "id": "8100e998",
   "metadata": {},
   "outputs": [],
   "source": []
  },
  {
   "cell_type": "markdown",
   "id": "46764d6a",
   "metadata": {},
   "source": [
    "### Reading in TOR330 Data on elevation / distance\n",
    "\n",
    "A copy of the original 'TOR330 - Downloads.xlsx' and 'TOR450 - Downloads.xlsx' and were changed to reflect the downloaded 100x100trail data "
   ]
  },
  {
   "cell_type": "code",
   "execution_count": null,
   "id": "d20c7c8e",
   "metadata": {},
   "outputs": [],
   "source": [
    "TOR330_aid_station_info_df = pd.read_excel('TOR330 Data/TOR330 - Timetable.xlsx', sheet_name = 'Sheet1')\n",
    "\n",
    "# organising the data in the correct order by 'distance\\nfrom START\\n(km)'\n",
    "TOR330_aid_station_info_df = TOR330_aid_station_info_df.sort_values(by ='distance\\nfrom START\\n(km)')\n",
    "\n",
    "TOR330_aid_station_info_df = TOR330_aid_station_info_df['100X100trail Aid Stations'].to_list()\n",
    "\n",
    "TOR330_aid_station_info_df"
   ]
  },
  {
   "cell_type": "code",
   "execution_count": null,
   "id": "9160d46c",
   "metadata": {},
   "outputs": [],
   "source": [
    "# TOR450_aid_station_info_df = pd.read_excel('TOR450 Data/TOR450 - Timetable.xlsx', sheet_name = 'Sheet1')\n",
    "\n",
    "# # organising the data in the correct order by 'distance\\nfrom START\\n(km)'\n",
    "# TOR450_aid_station_info_df = TOR450_aid_station_info_df.sort_values(by ='distance\\nfrom START\\n(km)')\n",
    "\n",
    "# TOR450_aid_station_info_df = TOR450_aid_station_info_df['100X100trail Aid Stations'].to_list()\n",
    "\n",
    "# TOR450_aid_station_info_df"
   ]
  },
  {
   "cell_type": "code",
   "execution_count": null,
   "id": "fa26f570",
   "metadata": {},
   "outputs": [],
   "source": []
  },
  {
   "cell_type": "code",
   "execution_count": null,
   "id": "fe05c93d",
   "metadata": {},
   "outputs": [],
   "source": []
  },
  {
   "cell_type": "code",
   "execution_count": null,
   "id": "c45d443a",
   "metadata": {},
   "outputs": [],
   "source": []
  },
  {
   "cell_type": "code",
   "execution_count": null,
   "id": "376e5749",
   "metadata": {},
   "outputs": [],
   "source": []
  },
  {
   "cell_type": "code",
   "execution_count": null,
   "id": "abd40290",
   "metadata": {},
   "outputs": [],
   "source": []
  },
  {
   "cell_type": "code",
   "execution_count": null,
   "id": "2af2f34c",
   "metadata": {},
   "outputs": [],
   "source": []
  },
  {
   "attachments": {
    "image.png": {
     "image/png": "[encoded data removed]"
    }
   },
   "cell_type": "markdown",
   "id": "9ffdd30e",
   "metadata": {},
   "source": [
    "### Start Line Issues\n",
    "\n",
    "![image.png](attachment:image.png)"
   ]
  },
  {
   "cell_type": "code",
   "execution_count": null,
   "id": "6498e7cc",
   "metadata": {},
   "outputs": [],
   "source": [
    "# print(tor_des_glacier_df[f'tor_des_glacier_2024'])\n",
    "df = TORX_df[f'TOR330_2024'][TORX_df[f'TOR330_2024']['Aid Station'] == 'START']\n",
    "\n",
    "df.head(50)"
   ]
  },
  {
   "cell_type": "code",
   "execution_count": null,
   "id": "d956f66d",
   "metadata": {},
   "outputs": [],
   "source": []
  },
  {
   "cell_type": "code",
   "execution_count": null,
   "id": "b69ef513",
   "metadata": {},
   "outputs": [],
   "source": []
  },
  {
   "cell_type": "code",
   "execution_count": null,
   "id": "2ea43b58",
   "metadata": {},
   "outputs": [],
   "source": []
  },
  {
   "cell_type": "code",
   "execution_count": null,
   "id": "4b8d8bbe",
   "metadata": {},
   "outputs": [],
   "source": []
  },
  {
   "cell_type": "code",
   "execution_count": null,
   "id": "096f6db2",
   "metadata": {},
   "outputs": [],
   "source": []
  },
  {
   "cell_type": "code",
   "execution_count": null,
   "id": "34d8639d",
   "metadata": {},
   "outputs": [],
   "source": []
  }
 ],
 "metadata": {
  "kernelspec": {
   "display_name": "Python 3 (ipykernel)",
   "language": "python",
   "name": "python3"
  },
  "language_info": {
   "codemirror_mode": {
    "name": "ipython",
    "version": 3
   },
   "file_extension": ".py",
   "mimetype": "text/x-python",
   "name": "python",
   "nbconvert_exporter": "python",
   "pygments_lexer": "ipython3",
   "version": "3.9.13"
  }
 },
 "nbformat": 4,
 "nbformat_minor": 5
}
