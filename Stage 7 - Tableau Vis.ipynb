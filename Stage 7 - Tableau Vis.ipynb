{
 "cells": [
  {
   "cell_type": "code",
   "execution_count": 1,
   "id": "addf9a56",
   "metadata": {},
   "outputs": [],
   "source": [
    "import re\n",
    "import pandas as pd\n",
    "import time\n",
    "import numpy as np\n",
    "import matplotlib.pyplot as plt\n"
   ]
  },
  {
   "cell_type": "code",
   "execution_count": 2,
   "id": "800d11dd",
   "metadata": {},
   "outputs": [],
   "source": [
    "# # Set pandas options to display all columns and rows\n",
    "# pd.set_option('display.max_columns', None)  # Show all columns\n",
    "# pd.set_option('display.max_rows', None)     # Show all rows"
   ]
  },
  {
   "cell_type": "markdown",
   "id": "d6367b9b",
   "metadata": {},
   "source": [
    "## Looping through scraped data from 100X100trail"
   ]
  },
  {
   "cell_type": "code",
   "execution_count": 3,
   "id": "605ac5de",
   "metadata": {},
   "outputs": [
    {
     "name": "stdout",
     "output_type": "stream",
     "text": [
      "**************************************************\n",
      "TOR330_2022 (960, 91)\n",
      "**************************************************\n",
      "TOR330_2023 (1209, 92)\n",
      "**************************************************\n",
      "TOR330_2024 (1098, 92)\n",
      "**************************************************\n"
     ]
    }
   ],
   "source": [
    "races = ['TOR330'\n",
    "#         ,'TOR450'\n",
    "        ]\n",
    "years = [ '2021',\n",
    "        '2022',\n",
    "         '2023', \n",
    "    '2024'\n",
    "        ]\n",
    "\n",
    "TORX_df = {}\n",
    "\n",
    "for race in races:\n",
    "    for year in years:\n",
    "        try:\n",
    "            df = pd.read_excel(f'{race} Data/clean_{race}_aid_stations_{year}.xlsx',\n",
    "                                     dtype={'Start Date': 'string',\n",
    "                                            'Year': 'string'})\n",
    "            print(f'{race}_{year} {df.shape}')\n",
    "            # Store the DataFrame in the dictionary with a key like 'TOR330_2021'\n",
    "            TORX_df[f'{race}_{year}'] = df\n",
    "        except:\n",
    "            pass\n",
    "        \n",
    "        print('*'*50),"
   ]
  },
  {
   "cell_type": "code",
   "execution_count": 4,
   "id": "e4dc3520",
   "metadata": {},
   "outputs": [],
   "source": [
    "TORX = pd.concat(TORX_df)"
   ]
  },
  {
   "cell_type": "code",
   "execution_count": 5,
   "id": "a0f4afd5",
   "metadata": {},
   "outputs": [
    {
     "data": {
      "text/plain": [
       "Index(['Unnamed: 0', 'Name', 'Bib', 'Sex', 'Nationality', 'Year', 'Race',\n",
       "       'Category', 'Status', 'Status1', 'Wave', 'Duration', 'RITIRIO',\n",
       "       'Retired', 'Retired_Section', 'new_Start Date', 'Baite Youlaz',\n",
       "       'La Thuile', 'Rifugio Deffeyes', 'Planaval', 'Valgrisenche IN',\n",
       "       'Valgrisenche OUT', 'Chalet Epee', 'Rhemes-Notre-Dame', 'Eaux Rousse',\n",
       "       'Rifugio Sella', 'Cogne IN', 'Cogne OUT', 'Goilles', 'Rifugio Dondena',\n",
       "       'Chardonney', 'Pontboset', 'Donnas IN', 'Donnas OUT', 'Perloz', 'Sassa',\n",
       "       'Rifugio Coda', 'Rifugio della Barma', 'Lago Chiaro',\n",
       "       'Col della Vecchia', 'Niel La Gruba', 'Loo', 'Gressoney IN',\n",
       "       'Gressoney OUT', 'Rifugio Alpenzu', 'Champoluc',\n",
       "       'Rifugio Grand Tournalin', 'Valtournenche IN', 'Valtournenche OUT',\n",
       "       'Vareton', 'Rifugio Magià', 'Rifugio Cuney', 'Bivacco R. Clermont',\n",
       "       'Oyace', 'Bruson Arp', 'Ollomont IN', 'Ollomont OUT',\n",
       "       'Rifugio Champillon', 'Ponteille Desot', 'Bosses', 'Rifugio Frassati',\n",
       "       'Pas Entre Deux Sauts', 'Monte de la Saxe', 'FINISH', 'Section 1 Time',\n",
       "       'Time Spent in Valgrisenche', 'Section 2 Time', 'Time Spent in Cogne',\n",
       "       'Section 3 Time', 'Time Spent in Donnas', 'Section 4 Time',\n",
       "       'Time Spent in Gressoney', 'Section 5 Time',\n",
       "       'Time Spent in Valtournenche', 'Section 6 Time',\n",
       "       'Time Spent in Ollomont', 'Section 7 Time', 'Section 1 Time_in_seconds',\n",
       "       'Time Spent in Valgrisenche_in_seconds', 'Section 2 Time_in_seconds',\n",
       "       'Time Spent in Cogne_in_seconds', 'Section 3 Time_in_seconds',\n",
       "       'Time Spent in Donnas_in_seconds', 'Section 4 Time_in_seconds',\n",
       "       'Time Spent in Gressoney_in_seconds', 'Section 5 Time_in_seconds',\n",
       "       'Time Spent in Valtournenche_in_seconds', 'Section 6 Time_in_seconds',\n",
       "       'Time Spent in Ollomont_in_seconds', 'Section 7 Time_in_seconds',\n",
       "       'Duration_in_seconds', 'Rifugio Barmasse'],\n",
       "      dtype='object')"
      ]
     },
     "execution_count": 5,
     "metadata": {},
     "output_type": "execute_result"
    }
   ],
   "source": [
    "TORX.columns"
   ]
  },
  {
   "cell_type": "code",
   "execution_count": null,
   "id": "21d91dd6",
   "metadata": {},
   "outputs": [],
   "source": []
  },
  {
   "cell_type": "markdown",
   "id": "6753adce",
   "metadata": {},
   "source": [
    "### Converting to seconds for Tableau Analysis"
   ]
  },
  {
   "cell_type": "code",
   "execution_count": 6,
   "id": "d85ef2e2",
   "metadata": {},
   "outputs": [],
   "source": [
    "TORX_dem = TORX[['Name', 'Bib', 'Sex', 'Nationality', 'Year', 'Race', \n",
    "      'Category', 'Status', 'Status1', 'Wave', \n",
    "      'RITIRIO', 'Retired', 'Retired_Section', 'Duration_in_seconds']].reset_index(drop = True)\n",
    "      \n",
    "TORX_times = TORX[[ 'Bib','Year', 'Race',\n",
    "      'Section 1 Time_in_seconds', 'Time Spent in Valgrisenche_in_seconds', \n",
    "      'Section 2 Time_in_seconds', 'Time Spent in Cogne_in_seconds', \n",
    "        'Section 3 Time_in_seconds','Time Spent in Donnas_in_seconds', \n",
    "        'Section 4 Time_in_seconds','Time Spent in Gressoney_in_seconds', \n",
    "        'Section 5 Time_in_seconds', 'Time Spent in Valtournenche_in_seconds', \n",
    "        'Section 6 Time_in_seconds','Time Spent in Ollomont_in_seconds', \n",
    "        'Section 7 Time_in_seconds']].reset_index(drop = True)"
   ]
  },
  {
   "cell_type": "code",
   "execution_count": 7,
   "id": "bb18245c",
   "metadata": {},
   "outputs": [
    {
     "data": {
      "text/plain": [
       "array([nan, 'Section 2', 'Section 4', 'Section 3', 'Section 7',\n",
       "       'Section 6', 'Section 1', 'Section 5', 'DNS'], dtype=object)"
      ]
     },
     "execution_count": 7,
     "metadata": {},
     "output_type": "execute_result"
    }
   ],
   "source": [
    "TORX_dem['Retired_Section'].unique()"
   ]
  },
  {
   "cell_type": "code",
   "execution_count": 8,
   "id": "f5f6d860",
   "metadata": {},
   "outputs": [
    {
     "data": {
      "text/plain": [
       "Retired_Section\n",
       "DNS          131\n",
       "Section 1    238\n",
       "Section 2    409\n",
       "Section 3     96\n",
       "Section 4    388\n",
       "Section 5     72\n",
       "Section 6    108\n",
       "Section 7     34\n",
       "Name: Retired_Section, dtype: int64"
      ]
     },
     "execution_count": 8,
     "metadata": {},
     "output_type": "execute_result"
    }
   ],
   "source": [
    "TORX_dem.groupby(['Retired_Section'])['Retired_Section'].size()"
   ]
  },
  {
   "cell_type": "code",
   "execution_count": 9,
   "id": "e54c2c1d",
   "metadata": {},
   "outputs": [
    {
     "data": {
      "text/plain": [
       "array([nan, 'Section 2', 'Section 4', 'Section 3', 'Section 7',\n",
       "       'Section 6', 'Section 1', 'Section 5', 'DNS'], dtype=object)"
      ]
     },
     "execution_count": 9,
     "metadata": {},
     "output_type": "execute_result"
    }
   ],
   "source": [
    "TORX_dem['Retired_Section'].unique()"
   ]
  },
  {
   "cell_type": "code",
   "execution_count": null,
   "id": "ab898a7d",
   "metadata": {},
   "outputs": [],
   "source": []
  },
  {
   "cell_type": "code",
   "execution_count": 10,
   "id": "2535486c",
   "metadata": {},
   "outputs": [
    {
     "name": "stdout",
     "output_type": "stream",
     "text": [
      "        Bib  Year    Race      Stage  Duration\n",
      "0         3  2022  TOR330  Section 1   26648.0\n",
      "1         9  2022  TOR330  Section 1   27065.0\n",
      "2         5  2022  TOR330  Section 1   28919.0\n",
      "3        12  2022  TOR330  Section 1   28916.0\n",
      "4       275  2022  TOR330  Section 1   30578.0\n",
      "...     ...   ...     ...        ...       ...\n",
      "42466  1055  2024  TOR330  Section 7       NaN\n",
      "42467   525  2024  TOR330  Section 7       NaN\n",
      "42468  1007  2024  TOR330  Section 7       NaN\n",
      "42469  1464  2024  TOR330  Section 7       NaN\n",
      "42470  1313  2024  TOR330  Section 7       NaN\n",
      "\n",
      "[42471 rows x 5 columns]\n"
     ]
    }
   ],
   "source": [
    "# Unpivot the section-related columns\n",
    "value_vars = [\n",
    "    'Section 1 Time_in_seconds', 'Time Spent in Valgrisenche_in_seconds', \n",
    "    'Section 2 Time_in_seconds', 'Time Spent in Cogne_in_seconds', \n",
    "    'Section 3 Time_in_seconds', 'Time Spent in Donnas_in_seconds',\n",
    "    'Section 4 Time_in_seconds', 'Time Spent in Gressoney_in_seconds', \n",
    "    'Section 5 Time_in_seconds', 'Time Spent in Valtournenche_in_seconds', \n",
    "    'Section 6 Time_in_seconds', 'Time Spent in Ollomont_in_seconds', \n",
    "    'Section 7 Time_in_seconds'\n",
    "]\n",
    "\n",
    "# Melting the dataset\n",
    "TORX_times_pivoted = pd.melt(\n",
    "    TORX_times, \n",
    "    id_vars=[ 'Bib', 'Year', 'Race'], \n",
    "    value_vars=value_vars, \n",
    "    var_name='Stage', \n",
    "    value_name='Duration'\n",
    ")\n",
    "\n",
    "\n",
    "TORX_times_pivoted['Stage'] = TORX_times_pivoted['Stage'].str.replace(' Time_in_seconds', '')\n",
    "# Display the unpivoted dataset\n",
    "print(TORX_times_pivoted)"
   ]
  },
  {
   "cell_type": "code",
   "execution_count": 11,
   "id": "5c08fb24",
   "metadata": {},
   "outputs": [
    {
     "data": {
      "text/plain": [
       "Retired_Section  Retired                \n",
       "DNS              new_Start Date             131\n",
       "Section 1        Baite Youlaz                 2\n",
       "                 La Thuile                   34\n",
       "                 Planaval                    24\n",
       "                 Rifugio Deffeyes            38\n",
       "                 Valgrisenche               140\n",
       "Section 2        Chalet Epee                 25\n",
       "                 Cogne                      109\n",
       "                 Eaux Rousse                156\n",
       "                 Rhemes-Notre-Dame          100\n",
       "                 Rifugio Sella               19\n",
       "Section 3        Chardonney                  15\n",
       "                 Donnas                      57\n",
       "                 Goilles                      4\n",
       "                 Pontboset                    5\n",
       "                 Rifugio Dondena             15\n",
       "Section 4        Col della Vecchia           28\n",
       "                 Gressoney                  135\n",
       "                 Lago Chiaro                 16\n",
       "                 Loo                         16\n",
       "                 Niel La Gruba               95\n",
       "                 Perloz                      18\n",
       "                 Rifugio Coda                21\n",
       "                 Rifugio della Barma         44\n",
       "                 Sassa                       15\n",
       "Section 5        Champoluc                   34\n",
       "                 Rifugio Alpenzu             11\n",
       "                 Rifugio Grand Tournalin      5\n",
       "                 Valtournenche               22\n",
       "Section 6        Bivacco R. Clermont          6\n",
       "                 Bruson Arp                  10\n",
       "                 Ollomont                    35\n",
       "                 Oyace                       46\n",
       "                 Rifugio Cuney                4\n",
       "                 Vareton                      7\n",
       "Section 7        Bosses                       9\n",
       "                 Pas Entre Deux Sauts         3\n",
       "                 Ponteille Desot              8\n",
       "                 Rifugio Champillon          11\n",
       "                 Rifugio Frassati             3\n",
       "Name: Retired_Section, dtype: int64"
      ]
     },
     "execution_count": 11,
     "metadata": {},
     "output_type": "execute_result"
    }
   ],
   "source": [
    "TORX_dem.groupby(['Retired_Section', 'Retired' ])['Retired_Section'].count()"
   ]
  },
  {
   "cell_type": "code",
   "execution_count": null,
   "id": "5701df6c",
   "metadata": {},
   "outputs": [],
   "source": []
  },
  {
   "cell_type": "code",
   "execution_count": null,
   "id": "54690ed1",
   "metadata": {},
   "outputs": [],
   "source": []
  },
  {
   "cell_type": "markdown",
   "id": "127f11d7",
   "metadata": {},
   "source": [
    "### Saving for Tableau"
   ]
  },
  {
   "cell_type": "code",
   "execution_count": 12,
   "id": "592c7210",
   "metadata": {},
   "outputs": [],
   "source": [
    "TORX_dem.to_excel(f'TOR330 Data/clean_TORX_dem.xlsx' , index = False)\n",
    "TORX_times_pivoted.to_excel(f'TOR330 Data/clean_TORX_times.xlsx' , index = False)"
   ]
  },
  {
   "cell_type": "code",
   "execution_count": null,
   "id": "34d8639d",
   "metadata": {},
   "outputs": [],
   "source": []
  },
  {
   "cell_type": "code",
   "execution_count": null,
   "id": "29d484ac",
   "metadata": {},
   "outputs": [],
   "source": []
  }
 ],
 "metadata": {
  "kernelspec": {
   "display_name": "Python 3 (ipykernel)",
   "language": "python",
   "name": "python3"
  },
  "language_info": {
   "codemirror_mode": {
    "name": "ipython",
    "version": 3
   },
   "file_extension": ".py",
   "mimetype": "text/x-python",
   "name": "python",
   "nbconvert_exporter": "python",
   "pygments_lexer": "ipython3",
   "version": "3.9.13"
  }
 },
 "nbformat": 4,
 "nbformat_minor": 5
}
