{
 "cells": [
  {
   "cell_type": "markdown",
   "id": "752c9f98",
   "metadata": {},
   "source": [
    "# TORX Data\n",
    "\n",
    "In this code, the 100x100 database is scraped. The raw data is then saved to a folder with race and year. No cleaning is done.\n"
   ]
  },
  {
   "cell_type": "code",
   "execution_count": 5,
   "id": "addf9a56",
   "metadata": {},
   "outputs": [
    {
     "name": "stderr",
     "output_type": "stream",
     "text": [
      "C:\\Users\\Karina\\miniconda3\\lib\\site-packages\\requests\\__init__.py:109: RequestsDependencyWarning: urllib3 (2.2.2) or chardet (3.0.4)/charset_normalizer (2.0.4) doesn't match a supported version!\n",
      "  warnings.warn(\n"
     ]
    }
   ],
   "source": [
    "import requests\n",
    "import json\n",
    "import html\n",
    "import pandas as pd\n",
    "import time\n",
    "import re\n",
    "import unicodedata"
   ]
  },
  {
   "cell_type": "code",
   "execution_count": 3,
   "id": "189fce91",
   "metadata": {},
   "outputs": [],
   "source": [
    "years = ['2021','2022', '2023',  '2024']\n",
    "races = [\n",
    "#     'TOR330' ,\n",
    "         'TOR450',\n",
    "#          'TOR130'\n",
    "        ]\n",
    "delay_seconds = 15"
   ]
  },
  {
   "cell_type": "markdown",
   "id": "116bc7a0",
   "metadata": {},
   "source": [
    "## Scraping TORX Data from the website"
   ]
  },
  {
   "cell_type": "code",
   "execution_count": 3,
   "id": "5c87eb71",
   "metadata": {},
   "outputs": [
    {
     "name": "stdout",
     "output_type": "stream",
     "text": [
      "https://100x100trail.com/json/TOR3302021.json\n",
      "Data saved to 'TOR330_2021.json'\n",
      "https://100x100trail.com/json/TOR3302022.json\n",
      "Data saved to 'TOR330_2022.json'\n",
      "https://100x100trail.com/json/TOR3302023.json\n",
      "Data saved to 'TOR330_2023.json'\n",
      "https://100x100trail.com/json/TOR3302024.json\n",
      "Data saved to 'TOR330_2024.json'\n"
     ]
    }
   ],
   "source": [
    "for race in races:\n",
    "    for year in years:\n",
    "        # URL of the JSON file\n",
    "        url = f'https://100x100trail.com/json/{race}{year}.json'\n",
    "        print(url)\n",
    "\n",
    "        # Send a GET request to fetch the JSON data\n",
    "        response = requests.get(url)\n",
    "\n",
    "        # Check if the request was successful (status code 200)\n",
    "        if response.status_code == 200:\n",
    "            # Parse the JSON data\n",
    "            data = response.json()\n",
    "\n",
    "            # Optionally, save the data to a JSON file\n",
    "            with open(f'{race} Data/1. 100x100trail/JSON/{race}_{year}.json', 'w') as f:\n",
    "                json.dump(data, f, indent=4)\n",
    "\n",
    "            print(f\"Data saved to '{race}_{year}.json'\")\n",
    "        else:\n",
    "            print(f\"Failed to retrieve data. Status code: {response.status_code}\")\n",
    "\n",
    "        time.sleep(delay_seconds)"
   ]
  },
  {
   "cell_type": "markdown",
   "id": "525dd60f",
   "metadata": {},
   "source": [
    "## Extracting Data from JSON data"
   ]
  },
  {
   "cell_type": "code",
   "execution_count": 6,
   "id": "a347de9e",
   "metadata": {},
   "outputs": [],
   "source": [
    "# Prepare a list to hold the rows for the DataFrame\n",
    "rows = []\n",
    "aid_station_list = []\n",
    "\n",
    "# Function to parse each entry\n",
    "def parse_data(entries, race, year):\n",
    "    n = 0\n",
    "    for entry in entries:\n",
    "        \n",
    "        attributes = entry[\"data\"][\"attributes\"]\n",
    "        name = html.unescape(attributes[\"name\"]).title()\n",
    "        team = attributes[\"team\"]\n",
    "        bib_number = attributes[\"pettorale\"]\n",
    "        sex = attributes[\"sesso\"]\n",
    "        nationality = attributes[\"nazionalita\"]\n",
    "        category = attributes[\"categoria\"]\n",
    "        finisher_status = attributes[\"finisher\"]\n",
    "        \n",
    "            # Extracting times and places\n",
    "        events = entry[\"data\"][\"relationships\"][\"events\"][\"data\"]\n",
    "\n",
    "        for event in events:\n",
    "            place = event['title']\n",
    "            time = event['start_date']\n",
    "        \n",
    "            race = f'{race}'\n",
    "            year = f'{year}'\n",
    "\n",
    "            #\"Bib\", \"Name\", \"Team\", \"Sex\",  'Nationality','Race', 'Status' \n",
    "            all_info = [name, bib_number,  sex, nationality,race,year,\n",
    "                                    category, place, time, finisher_status]\n",
    "            # Append the row to the list\n",
    "            rows.append(all_info)\n"
   ]
  },
  {
   "cell_type": "code",
   "execution_count": 2,
   "id": "323745b5",
   "metadata": {},
   "outputs": [],
   "source": [
    "# Function to remove special characters\n",
    "def normalize_name(name):\n",
    "    # Normalize to remove accents and special characters\n",
    "    name = unicodedata.normalize('NFD', name)\n",
    "    # Encode to ASCII and ignore errors, then decode back to string\n",
    "    name = name.encode('ascii', 'ignore').decode('utf-8')\n",
    "    return name"
   ]
  },
  {
   "cell_type": "markdown",
   "id": "d6367b9b",
   "metadata": {},
   "source": [
    "## Looping through scraped data"
   ]
  },
  {
   "cell_type": "code",
   "execution_count": 7,
   "id": "45d057d9",
   "metadata": {},
   "outputs": [
    {
     "name": "stderr",
     "output_type": "stream",
     "text": [
      "C:\\Users\\Karina\\AppData\\Local\\Temp\\ipykernel_10924\\810108057.py:24: FutureWarning: The default value of regex will change from True to False in a future version.\n",
      "  df['Name'] = df['Name'].str.replace(r\"\\s+\", \" \")\n"
     ]
    },
    {
     "name": "stdout",
     "output_type": "stream",
     "text": [
      "Data saved to f'TOR450_2021.xlsx'\n",
      "******************************\n"
     ]
    },
    {
     "name": "stderr",
     "output_type": "stream",
     "text": [
      "C:\\Users\\Karina\\AppData\\Local\\Temp\\ipykernel_10924\\810108057.py:24: FutureWarning: The default value of regex will change from True to False in a future version.\n",
      "  df['Name'] = df['Name'].str.replace(r\"\\s+\", \" \")\n"
     ]
    },
    {
     "name": "stdout",
     "output_type": "stream",
     "text": [
      "Data saved to f'TOR450_2022.xlsx'\n",
      "******************************\n"
     ]
    },
    {
     "name": "stderr",
     "output_type": "stream",
     "text": [
      "C:\\Users\\Karina\\AppData\\Local\\Temp\\ipykernel_10924\\810108057.py:24: FutureWarning: The default value of regex will change from True to False in a future version.\n",
      "  df['Name'] = df['Name'].str.replace(r\"\\s+\", \" \")\n"
     ]
    },
    {
     "name": "stdout",
     "output_type": "stream",
     "text": [
      "Data saved to f'TOR450_2023.xlsx'\n",
      "******************************\n"
     ]
    },
    {
     "name": "stderr",
     "output_type": "stream",
     "text": [
      "C:\\Users\\Karina\\AppData\\Local\\Temp\\ipykernel_10924\\810108057.py:24: FutureWarning: The default value of regex will change from True to False in a future version.\n",
      "  df['Name'] = df['Name'].str.replace(r\"\\s+\", \" \")\n"
     ]
    },
    {
     "name": "stdout",
     "output_type": "stream",
     "text": [
      "Data saved to f'TOR450_2024.xlsx'\n",
      "******************************\n"
     ]
    }
   ],
   "source": [
    "TORX_df = {}\n",
    "\n",
    "\n",
    "for race in races:\n",
    "    for year in years:\n",
    "        rows=[]\n",
    "\n",
    "        # Load the JSON data from a file\n",
    "        with open(f'{race} Data/1. 100x100trail/JSON/{race}_{year}.json', 'r') as file:\n",
    "            data = json.load(file)\n",
    "\n",
    "            # parse data\n",
    "            parse_data(data, race, year)\n",
    "\n",
    "            # Create a DataFrame\n",
    "            df =  pd.DataFrame(rows, columns=[\n",
    "               \"Name\", \"Bib\", 'Sex', 'Nationality','Race', 'Year',\n",
    "                \"Category\",  'Place', 'Time', 'Status' ])    \n",
    "\n",
    "            df['Name'] = df['Name'].str.strip().str.title()\n",
    "            df['Name'] = df['Name'].str.replace(',', '')\n",
    "            df['Name'] = df['Name'].str.replace('\\'', ' ')\n",
    "            df['Name'] = df['Name'].str.replace('-', ' ')\n",
    "            df['Name'] = df['Name'].str.replace(r\"\\s+\", \" \")\n",
    "            df['Name'] = df['Name'].apply(normalize_name)\n",
    "                \n",
    "            \n",
    "            df.to_excel(f'{race} Data/1. 100x100trail/{race}_{year}.xlsx' , index = False)\n",
    "#             aid_station_df.to_excel(f'{race} Data/1. 100x100trail/aid_station_{race}_{year}.xlsx' , index = False)\n",
    "            \n",
    "            TORX_df[f'{race}_{year}'] = df\n",
    "#             aid_station_TORX_df[f'{race}_{year}'] = aid_station_df\n",
    "                \n",
    "            print(f\"Data saved to f'{race}_{year}.xlsx'\")\n",
    "\n",
    "            print('*'*30)\n",
    "\n",
    "\n"
   ]
  },
  {
   "cell_type": "code",
   "execution_count": 9,
   "id": "e5b53e44",
   "metadata": {},
   "outputs": [
    {
     "data": {
      "text/html": [
       "<div>\n",
       "<style scoped>\n",
       "    .dataframe tbody tr th:only-of-type {\n",
       "        vertical-align: middle;\n",
       "    }\n",
       "\n",
       "    .dataframe tbody tr th {\n",
       "        vertical-align: top;\n",
       "    }\n",
       "\n",
       "    .dataframe thead th {\n",
       "        text-align: right;\n",
       "    }\n",
       "</style>\n",
       "<table border=\"1\" class=\"dataframe\">\n",
       "  <thead>\n",
       "    <tr style=\"text-align: right;\">\n",
       "      <th></th>\n",
       "      <th>Name</th>\n",
       "      <th>Bib</th>\n",
       "      <th>Sex</th>\n",
       "      <th>Nationality</th>\n",
       "      <th>Race</th>\n",
       "      <th>Year</th>\n",
       "      <th>Category</th>\n",
       "      <th>Place</th>\n",
       "      <th>Time</th>\n",
       "      <th>Status</th>\n",
       "    </tr>\n",
       "  </thead>\n",
       "  <tbody>\n",
       "    <tr>\n",
       "      <th>0</th>\n",
       "      <td>Raichon Sebastien</td>\n",
       "      <td>4067</td>\n",
       "      <td>M</td>\n",
       "      <td>FR</td>\n",
       "      <td>TOR450</td>\n",
       "      <td>2022</td>\n",
       "      <td>V2</td>\n",
       "      <td>660 - FINISH|UHF</td>\n",
       "      <td>2022-09-14T23:57:18+00:00</td>\n",
       "      <td>True</td>\n",
       "    </tr>\n",
       "    <tr>\n",
       "      <th>1</th>\n",
       "      <td>Raichon Sebastien</td>\n",
       "      <td>4067</td>\n",
       "      <td>M</td>\n",
       "      <td>FR</td>\n",
       "      <td>TOR450</td>\n",
       "      <td>2022</td>\n",
       "      <td>V2</td>\n",
       "      <td>650 - Mont de la Saxe 330|344.5|30828</td>\n",
       "      <td>2022-09-14T23:10:42+00:00</td>\n",
       "      <td>True</td>\n",
       "    </tr>\n",
       "    <tr>\n",
       "      <th>2</th>\n",
       "      <td>Raichon Sebastien</td>\n",
       "      <td>4067</td>\n",
       "      <td>M</td>\n",
       "      <td>FR</td>\n",
       "      <td>TOR450</td>\n",
       "      <td>2022</td>\n",
       "      <td>V2</td>\n",
       "      <td>640 - Pas Entre Deux Sauts 330|335.6|30486</td>\n",
       "      <td>2022-09-14T21:34:35+00:00</td>\n",
       "      <td>True</td>\n",
       "    </tr>\n",
       "    <tr>\n",
       "      <th>3</th>\n",
       "      <td>Raichon Sebastien</td>\n",
       "      <td>4067</td>\n",
       "      <td>M</td>\n",
       "      <td>FR</td>\n",
       "      <td>TOR450</td>\n",
       "      <td>2022</td>\n",
       "      <td>V2</td>\n",
       "      <td>630 - Rif. Frassati 330|329.7|29862</td>\n",
       "      <td>2022-09-14T19:55:45+00:00</td>\n",
       "      <td>True</td>\n",
       "    </tr>\n",
       "    <tr>\n",
       "      <th>4</th>\n",
       "      <td>Raichon Sebastien</td>\n",
       "      <td>4067</td>\n",
       "      <td>M</td>\n",
       "      <td>FR</td>\n",
       "      <td>TOR450</td>\n",
       "      <td>2022</td>\n",
       "      <td>V2</td>\n",
       "      <td>600 - Hotel Italia - GSB|417|35131</td>\n",
       "      <td>2022-09-14T17:06:48+00:00</td>\n",
       "      <td>True</td>\n",
       "    </tr>\n",
       "  </tbody>\n",
       "</table>\n",
       "</div>"
      ],
      "text/plain": [
       "                Name   Bib Sex Nationality    Race  Year Category  \\\n",
       "0  Raichon Sebastien  4067   M          FR  TOR450  2022       V2   \n",
       "1  Raichon Sebastien  4067   M          FR  TOR450  2022       V2   \n",
       "2  Raichon Sebastien  4067   M          FR  TOR450  2022       V2   \n",
       "3  Raichon Sebastien  4067   M          FR  TOR450  2022       V2   \n",
       "4  Raichon Sebastien  4067   M          FR  TOR450  2022       V2   \n",
       "\n",
       "                                        Place                       Time  \\\n",
       "0                            660 - FINISH|UHF  2022-09-14T23:57:18+00:00   \n",
       "1       650 - Mont de la Saxe 330|344.5|30828  2022-09-14T23:10:42+00:00   \n",
       "2  640 - Pas Entre Deux Sauts 330|335.6|30486  2022-09-14T21:34:35+00:00   \n",
       "3         630 - Rif. Frassati 330|329.7|29862  2022-09-14T19:55:45+00:00   \n",
       "4          600 - Hotel Italia - GSB|417|35131  2022-09-14T17:06:48+00:00   \n",
       "\n",
       "   Status  \n",
       "0    True  \n",
       "1    True  \n",
       "2    True  \n",
       "3    True  \n",
       "4    True  "
      ]
     },
     "execution_count": 9,
     "metadata": {},
     "output_type": "execute_result"
    }
   ],
   "source": [
    "TORX_df[f'{race}_2022'].head(5)"
   ]
  },
  {
   "cell_type": "code",
   "execution_count": null,
   "id": "4eb4ee05",
   "metadata": {},
   "outputs": [],
   "source": []
  },
  {
   "cell_type": "markdown",
   "id": "33ab142d",
   "metadata": {},
   "source": [
    "### Exploring Data"
   ]
  },
  {
   "cell_type": "code",
   "execution_count": 12,
   "id": "266a4321",
   "metadata": {},
   "outputs": [
    {
     "data": {
      "text/html": [
       "<div>\n",
       "<style scoped>\n",
       "    .dataframe tbody tr th:only-of-type {\n",
       "        vertical-align: middle;\n",
       "    }\n",
       "\n",
       "    .dataframe tbody tr th {\n",
       "        vertical-align: top;\n",
       "    }\n",
       "\n",
       "    .dataframe thead th {\n",
       "        text-align: right;\n",
       "    }\n",
       "</style>\n",
       "<table border=\"1\" class=\"dataframe\">\n",
       "  <thead>\n",
       "    <tr style=\"text-align: right;\">\n",
       "      <th></th>\n",
       "      <th>Name</th>\n",
       "      <th>Bib</th>\n",
       "      <th>Sex</th>\n",
       "      <th>Nationality</th>\n",
       "      <th>Race</th>\n",
       "      <th>Year</th>\n",
       "      <th>Category</th>\n",
       "      <th>Place</th>\n",
       "      <th>Time</th>\n",
       "      <th>Status</th>\n",
       "    </tr>\n",
       "  </thead>\n",
       "  <tbody>\n",
       "    <tr>\n",
       "      <th>4510</th>\n",
       "      <td>Tierney Paul</td>\n",
       "      <td>4104</td>\n",
       "      <td>M</td>\n",
       "      <td>IE</td>\n",
       "      <td>TOR450</td>\n",
       "      <td>2024</td>\n",
       "      <td>V1</td>\n",
       "      <td>060 - Rif. Deffeyes 450</td>\n",
       "      <td>2024-09-07T03:31:19+02:00</td>\n",
       "      <td>False</td>\n",
       "    </tr>\n",
       "    <tr>\n",
       "      <th>4511</th>\n",
       "      <td>Tierney Paul</td>\n",
       "      <td>4104</td>\n",
       "      <td>M</td>\n",
       "      <td>IE</td>\n",
       "      <td>TOR450</td>\n",
       "      <td>2024</td>\n",
       "      <td>V1</td>\n",
       "      <td>050 - Rif. Elisabetta</td>\n",
       "      <td>2024-09-06T22:32:53+02:00</td>\n",
       "      <td>False</td>\n",
       "    </tr>\n",
       "    <tr>\n",
       "      <th>4512</th>\n",
       "      <td>Tierney Paul</td>\n",
       "      <td>4104</td>\n",
       "      <td>M</td>\n",
       "      <td>IE</td>\n",
       "      <td>TOR450</td>\n",
       "      <td>2024</td>\n",
       "      <td>V1</td>\n",
       "      <td>040 - Rif. Maison Vieille</td>\n",
       "      <td>2024-09-06T21:00:21+02:00</td>\n",
       "      <td>False</td>\n",
       "    </tr>\n",
       "    <tr>\n",
       "      <th>4513</th>\n",
       "      <td>Tierney Paul</td>\n",
       "      <td>4104</td>\n",
       "      <td>M</td>\n",
       "      <td>IE</td>\n",
       "      <td>TOR450</td>\n",
       "      <td>2024</td>\n",
       "      <td>V1</td>\n",
       "      <td>010 - START</td>\n",
       "      <td>2024-09-06T19:48:30+02:00</td>\n",
       "      <td>False</td>\n",
       "    </tr>\n",
       "    <tr>\n",
       "      <th>4514</th>\n",
       "      <td>Tierney Paul</td>\n",
       "      <td>4104</td>\n",
       "      <td>M</td>\n",
       "      <td>IE</td>\n",
       "      <td>TOR450</td>\n",
       "      <td>2024</td>\n",
       "      <td>V1</td>\n",
       "      <td>000 - PETTORALI</td>\n",
       "      <td>2024-08-17T18:33:00+02:00</td>\n",
       "      <td>False</td>\n",
       "    </tr>\n",
       "  </tbody>\n",
       "</table>\n",
       "</div>"
      ],
      "text/plain": [
       "              Name   Bib Sex Nationality    Race  Year Category  \\\n",
       "4510  Tierney Paul  4104   M          IE  TOR450  2024       V1   \n",
       "4511  Tierney Paul  4104   M          IE  TOR450  2024       V1   \n",
       "4512  Tierney Paul  4104   M          IE  TOR450  2024       V1   \n",
       "4513  Tierney Paul  4104   M          IE  TOR450  2024       V1   \n",
       "4514  Tierney Paul  4104   M          IE  TOR450  2024       V1   \n",
       "\n",
       "                          Place                       Time  Status  \n",
       "4510    060 - Rif. Deffeyes 450  2024-09-07T03:31:19+02:00   False  \n",
       "4511      050 - Rif. Elisabetta  2024-09-06T22:32:53+02:00   False  \n",
       "4512  040 - Rif. Maison Vieille  2024-09-06T21:00:21+02:00   False  \n",
       "4513                010 - START  2024-09-06T19:48:30+02:00   False  \n",
       "4514            000 - PETTORALI  2024-08-17T18:33:00+02:00   False  "
      ]
     },
     "execution_count": 12,
     "metadata": {},
     "output_type": "execute_result"
    }
   ],
   "source": [
    "# print(tor_des_glacier_df[f'tor_des_glacier_2024'])\n",
    "df = TORX_df[f'{race}_2024'][TORX_df[f'{race}_2024']['Name'] == 'Tierney Paul']\n",
    "\n",
    "df"
   ]
  },
  {
   "cell_type": "code",
   "execution_count": null,
   "id": "b0112125",
   "metadata": {},
   "outputs": [],
   "source": []
  },
  {
   "cell_type": "code",
   "execution_count": null,
   "id": "2b54d898",
   "metadata": {},
   "outputs": [],
   "source": []
  }
 ],
 "metadata": {
  "kernelspec": {
   "display_name": "Python 3 (ipykernel)",
   "language": "python",
   "name": "python3"
  },
  "language_info": {
   "codemirror_mode": {
    "name": "ipython",
    "version": 3
   },
   "file_extension": ".py",
   "mimetype": "text/x-python",
   "name": "python",
   "nbconvert_exporter": "python",
   "pygments_lexer": "ipython3",
   "version": "3.9.13"
  }
 },
 "nbformat": 4,
 "nbformat_minor": 5
}
