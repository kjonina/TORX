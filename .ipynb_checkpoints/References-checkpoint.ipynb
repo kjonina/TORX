{
 "cells": [
  {
   "cell_type": "markdown",
   "id": "d98b968a",
   "metadata": {},
   "source": [
    "# References\n",
    "\n",
    "\n",
    "\n",
    "\n",
    "Download the 'TOR330 - Downloads.xlsx' and 'TOR450 - Downloads.xlsx'\n",
    "https://www.torxtrail.com/en/content/downloads\n",
    "\n",
    "DUV Statistics - TOR330\n",
    "https://statistik.d-u-v.org/getresulteventalltime.php?event=25042\n",
    "\n",
    "DUV Statistics - TOR 450\n",
    "https://statistik.d-u-v.org/getresulteventalltime.php?event=91888"
   ]
  }
 ],
 "metadata": {
  "kernelspec": {
   "display_name": "Python 3 (ipykernel)",
   "language": "python",
   "name": "python3"
  },
  "language_info": {
   "codemirror_mode": {
    "name": "ipython",
    "version": 3
   },
   "file_extension": ".py",
   "mimetype": "text/x-python",
   "name": "python",
   "nbconvert_exporter": "python",
   "pygments_lexer": "ipython3",
   "version": "3.9.13"
  }
 },
 "nbformat": 4,
 "nbformat_minor": 5
}
