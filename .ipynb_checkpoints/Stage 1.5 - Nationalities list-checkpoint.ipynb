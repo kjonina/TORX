{
 "cells": [
  {
   "cell_type": "code",
   "execution_count": 1,
   "id": "addf9a56",
   "metadata": {},
   "outputs": [
    {
     "name": "stderr",
     "output_type": "stream",
     "text": [
      "C:\\Users\\Karina\\miniconda3\\lib\\site-packages\\requests\\__init__.py:109: RequestsDependencyWarning: urllib3 (2.2.2) or chardet (3.0.4)/charset_normalizer (2.0.4) doesn't match a supported version!\n",
      "  warnings.warn(\n"
     ]
    }
   ],
   "source": [
    "import requests\n",
    "import json\n",
    "import html\n",
    "import pandas as pd\n",
    "import time\n",
    "import re\n",
    "import unicodedata"
   ]
  },
  {
   "cell_type": "code",
   "execution_count": 2,
   "id": "189fce91",
   "metadata": {},
   "outputs": [],
   "source": [
    "years = ['2021', '2022', '2023', '2024']\n",
    "races = ['TOR330', 'TOR450', 'TOR130']"
   ]
  },
  {
   "cell_type": "markdown",
   "id": "116bc7a0",
   "metadata": {},
   "source": [
    "## Grabbing Nationality from TORX Data"
   ]
  },
  {
   "cell_type": "code",
   "execution_count": 6,
   "id": "5c87eb71",
   "metadata": {},
   "outputs": [
    {
     "name": "stdout",
     "output_type": "stream",
     "text": [
      "TOR330_2021 (712, 8)\n",
      "TOR330_2022 (960, 8)\n",
      "TOR330_2023 (1206, 8)\n",
      "TOR330_2024 (1096, 8)\n",
      "TOR450_2021 (56, 8)\n",
      "TOR450_2022 (149, 8)\n",
      "TOR450_2023 (187, 8)\n",
      "TOR450_2024 (185, 8)\n",
      "TOR130_2021 (264, 8)\n",
      "TOR130_2022 (388, 8)\n",
      "TOR130_2023 (505, 8)\n",
      "TOR130_2024 (393, 8)\n",
      "92\n",
      "['AD', 'AE', 'AI', 'AQ', 'AR', 'AT', 'AU', 'BE', 'BG', 'BN', 'BO', 'BR', 'CA', 'CH', 'CL', 'CN', 'CO', 'CR', 'CY', 'CZ', 'DE', 'DK', 'EC', 'EE', 'ES', 'FI', 'FR', 'GB', 'GF', 'GG', 'GP', 'GR', 'GT', 'HK', 'HR', 'HU', 'ID', 'IE', 'IL', 'IM', 'IN', 'IR', 'IS', 'IT', 'JE', 'JO', 'JP', 'KR', 'KZ', 'LT', 'LU', 'LV', 'MA', 'MC', 'ME', 'MO', 'MQ', 'MT', 'MU', 'MX', 'MY', 'NC', 'NL', 'NO', 'NZ', 'PE', 'PF', 'PH', 'PL', 'PT', 'QA', 'RE', 'RO', 'RS', 'RU', 'SA', 'SE', 'SG', 'SI', 'SK', 'SM', 'SN', 'SS', 'TH', 'TR', 'TW', 'UA', 'US', 'UY', 'VE', 'VN', 'ZA']\n"
     ]
    }
   ],
   "source": [
    "# Initialize a set to store unique nationalities\n",
    "unique_nationalities = set()\n",
    "\n",
    "for race in races:\n",
    "    for year in years:\n",
    "        df = pd.read_excel(f'{race} Data/100x100trail/{race}_{year}.xlsx')\n",
    "        print(f'{race}_{year} {df.shape}')\n",
    "        df['Nationality'] = df['Nationality'].str.strip()\n",
    "\n",
    "        # Get unique nationalities for the year and update the set\n",
    "        nationalities = df['Nationality'].unique()\n",
    "        unique_nationalities.update(nationalities )        \n",
    "        \n",
    "        # Convert the set back to a sorted list\n",
    "unique_nationalities_list = sorted(unique_nationalities)\n",
    "\n",
    "print(len(unique_nationalities_list))\n",
    "print(unique_nationalities_list)\n"
   ]
  },
  {
   "cell_type": "code",
   "execution_count": null,
   "id": "038114df",
   "metadata": {},
   "outputs": [],
   "source": []
  },
  {
   "cell_type": "code",
   "execution_count": null,
   "id": "94566497",
   "metadata": {},
   "outputs": [],
   "source": []
  },
  {
   "cell_type": "markdown",
   "id": "639d6ad0",
   "metadata": {},
   "source": [
    "## Making sense of abbreviated nationalities"
   ]
  },
  {
   "cell_type": "code",
   "execution_count": 7,
   "id": "7a313bc3",
   "metadata": {},
   "outputs": [
    {
     "data": {
      "text/plain": [
       "92"
      ]
     },
     "execution_count": 7,
     "metadata": {},
     "output_type": "execute_result"
    }
   ],
   "source": [
    "country_mapping = {\n",
    "    'AD': 'Andorra', 'AE': 'United Arab Emirates', 'AI': 'Anguilla', 'AQ': 'Antarctica', \n",
    "    'AR': 'Argentina', 'AT': 'Austria', 'AU': 'Australia', 'BE': 'Belgium', 'BG': 'Bulgaria',\n",
    "    'BN': 'Brunei', 'BO': 'Bolivia', 'BR': 'Brazil', 'CA': 'Canada', 'CH': 'Switzerland',\n",
    "    'CL': 'Chile', 'CN': 'China', 'CO': 'Colombia', 'CR': 'Costa Rica', 'CY': 'Cyprus',\n",
    "    'CZ': 'Czech Republic', 'DE': 'Germany', 'DK': 'Denmark', 'EC': 'Ecuador', 'EE': 'Estonia',\n",
    "    'ES': 'Spain', 'FI': 'Finland', 'FR': 'France', 'GB': 'United Kingdom', 'GF': 'French Guiana',\n",
    "    'GG': 'Guernsey', 'GP': 'Guadeloupe', 'GR': 'Greece', 'GT': 'Guatemala', 'HK': 'Hong Kong',\n",
    "    'HR': 'Croatia', 'HU': 'Hungary', 'ID': 'Indonesia', 'IE': 'Ireland', 'IL': 'Israel',\n",
    "    'IM': 'Isle of Man', 'IN': 'India', 'IR': 'Iran', 'IS': 'Iceland', 'IT': 'Italy',\n",
    "    'JE': 'Jersey', 'JO': 'Jordan', 'JP': 'Japan', 'KR': 'South Korea', 'KZ': 'Kazakhstan',\n",
    "    'LT': 'Lithuania', 'LU': 'Luxembourg', 'LV': 'Latvia', 'MA': 'Morocco', 'MC': 'Monaco',\n",
    "    'ME': 'Montenegro', 'MO': 'Macau', 'MQ': 'Martinique', 'MT': 'Malta', 'MU': 'Mauritius',\n",
    "    'MX': 'Mexico', 'MY': 'Malaysia', 'NC': 'New Caledonia', 'NL': 'Netherlands', 'NO': 'Norway',\n",
    "    'NZ': 'New Zealand', 'PE': 'Peru', 'PF': 'French Polynesia', 'PH': 'Philippines', 'PL': 'Poland',\n",
    "    'PT': 'Portugal', 'QA': 'Qatar', 'RE': 'Réunion', 'RO': 'Romania', 'RS': 'Serbia', 'RU': 'Russia',\n",
    "    'SA': 'Saudi Arabia', 'SE': 'Sweden', 'SG': 'Singapore', 'SI': 'Slovenia', 'SK': 'Slovakia',\n",
    "    'SM': 'San Marino', 'SN': 'Senegal', 'SS': 'South Sudan', 'TH': 'Thailand', 'TR': 'Turkey',\n",
    "    'TW': 'Taiwan', 'UA': 'Ukraine', 'US': 'United States', 'UY': 'Uruguay', 'VE': 'Venezuela',\n",
    "    'VN': 'Vietnam', 'ZA': 'South Africa'\n",
    "}\n",
    "len(country_mapping)"
   ]
  },
  {
   "cell_type": "code",
   "execution_count": 8,
   "id": "477e8f4b",
   "metadata": {},
   "outputs": [
    {
     "name": "stdout",
     "output_type": "stream",
     "text": [
      "   Nationality      Nationality Name\n",
      "0           AD               Andorra\n",
      "1           AE  United Arab Emirates\n",
      "2           AI              Anguilla\n",
      "3           AQ            Antarctica\n",
      "4           AR             Argentina\n",
      "..         ...                   ...\n",
      "87          US         United States\n",
      "88          UY               Uruguay\n",
      "89          VE             Venezuela\n",
      "90          VN               Vietnam\n",
      "91          ZA          South Africa\n",
      "\n",
      "[92 rows x 2 columns]\n"
     ]
    }
   ],
   "source": [
    "# Convert dictionary to DataFrame\n",
    "country_df = pd.DataFrame(list(country_mapping.items()), columns=['Nationality', 'Nationality Name'])\n",
    "\n",
    "print(country_df)\n",
    "\n",
    "country_df .to_excel(f'Database Data/TORX_100x100trail_nationality_table.xlsx', sheet_name = 'Nationality Code', index = False)"
   ]
  },
  {
   "cell_type": "code",
   "execution_count": null,
   "id": "718cea28",
   "metadata": {},
   "outputs": [],
   "source": []
  },
  {
   "cell_type": "code",
   "execution_count": null,
   "id": "7b3a8921",
   "metadata": {},
   "outputs": [],
   "source": []
  }
 ],
 "metadata": {
  "kernelspec": {
   "display_name": "Python 3 (ipykernel)",
   "language": "python",
   "name": "python3"
  },
  "language_info": {
   "codemirror_mode": {
    "name": "ipython",
    "version": 3
   },
   "file_extension": ".py",
   "mimetype": "text/x-python",
   "name": "python",
   "nbconvert_exporter": "python",
   "pygments_lexer": "ipython3",
   "version": "3.9.13"
  }
 },
 "nbformat": 4,
 "nbformat_minor": 5
}
