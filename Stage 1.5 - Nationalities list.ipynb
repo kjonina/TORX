{
 "cells": [
  {
   "cell_type": "code",
   "execution_count": 1,
   "id": "addf9a56",
   "metadata": {},
   "outputs": [
    {
     "name": "stderr",
     "output_type": "stream",
     "text": [
      "C:\\Users\\Karina\\miniconda3\\lib\\site-packages\\requests\\__init__.py:109: RequestsDependencyWarning: urllib3 (2.2.2) or chardet (3.0.4)/charset_normalizer (2.0.4) doesn't match a supported version!\n",
      "  warnings.warn(\n"
     ]
    }
   ],
   "source": [
    "import requests\n",
    "import json\n",
    "import html\n",
    "import pandas as pd\n",
    "import time\n",
    "import re\n",
    "import unicodedata"
   ]
  },
  {
   "cell_type": "code",
   "execution_count": 2,
   "id": "189fce91",
   "metadata": {},
   "outputs": [],
   "source": [
    "years = ['2021', '2022', '2023', '2024']\n",
    "races = ['TOR330', 'TOR450', 'TOR130']"
   ]
  },
  {
   "cell_type": "markdown",
   "id": "116bc7a0",
   "metadata": {},
   "source": [
    "## Grabbing Nationality from TORX Data"
   ]
  },
  {
   "cell_type": "code",
   "execution_count": 6,
   "id": "5c87eb71",
   "metadata": {},
   "outputs": [
    {
     "name": "stdout",
     "output_type": "stream",
     "text": [
      "TOR330_2021 (712, 8)\n",
      "TOR330_2022 (960, 8)\n",
      "TOR330_2023 (1206, 8)\n",
      "TOR330_2024 (1096, 8)\n",
      "TOR450_2021 (56, 8)\n",
      "TOR450_2022 (149, 8)\n",
      "TOR450_2023 (187, 8)\n",
      "TOR450_2024 (185, 8)\n",
      "TOR130_2021 (264, 8)\n",
      "TOR130_2022 (388, 8)\n",
      "TOR130_2023 (505, 8)\n",
      "TOR130_2024 (393, 8)\n",
      "92\n",
      "['AD', 'AE', 'AI', 'AQ', 'AR', 'AT', 'AU', 'BE', 'BG', 'BN', 'BO', 'BR', 'CA', 'CH', 'CL', 'CN', 'CO', 'CR', 'CY', 'CZ', 'DE', 'DK', 'EC', 'EE', 'ES', 'FI', 'FR', 'GB', 'GF', 'GG', 'GP', 'GR', 'GT', 'HK', 'HR', 'HU', 'ID', 'IE', 'IL', 'IM', 'IN', 'IR', 'IS', 'IT', 'JE', 'JO', 'JP', 'KR', 'KZ', 'LT', 'LU', 'LV', 'MA', 'MC', 'ME', 'MO', 'MQ', 'MT', 'MU', 'MX', 'MY', 'NC', 'NL', 'NO', 'NZ', 'PE', 'PF', 'PH', 'PL', 'PT', 'QA', 'RE', 'RO', 'RS', 'RU', 'SA', 'SE', 'SG', 'SI', 'SK', 'SM', 'SN', 'SS', 'TH', 'TR', 'TW', 'UA', 'US', 'UY', 'VE', 'VN', 'ZA']\n"
     ]
    }
   ],
   "source": [
    "# Initialize a set to store unique nationalities\n",
    "unique_nationalities = set()\n",
    "\n",
    "for race in races:\n",
    "    for year in years:\n",
    "        df = pd.read_excel(f'{race} Data/100x100trail/{race}_{year}.xlsx')\n",
    "        print(f'{race}_{year} {df.shape}')\n",
    "        df['Nationality'] = df['Nationality'].str.strip()\n",
    "\n",
    "        # Get unique nationalities for the year and update the set\n",
    "        nationalities = df['Nationality'].unique()\n",
    "        unique_nationalities.update(nationalities )        \n",
    "        \n",
    "        # Convert the set back to a sorted list\n",
    "unique_nationalities_list = sorted(unique_nationalities)\n",
    "\n",
    "print(len(unique_nationalities_list))\n",
    "print(unique_nationalities_list)\n"
   ]
  },
  {
   "cell_type": "code",
   "execution_count": null,
   "id": "d19924fd",
   "metadata": {},
   "outputs": [],
   "source": []
  },
  {
   "cell_type": "code",
   "execution_count": null,
   "id": "80cc4878",
   "metadata": {},
   "outputs": [],
   "source": []
  },
  {
   "cell_type": "markdown",
   "id": "639d6ad0",
   "metadata": {},
   "source": [
    "## Making sense of abbreviated nationalities"
   ]
  },
  {
   "cell_type": "code",
   "execution_count": 7,
   "id": "7a313bc3",
   "metadata": {},
   "outputs": [
    {
     "data": {
      "text/plain": [
       "92"
      ]
     },
     "execution_count": 7,
     "metadata": {},
     "output_type": "execute_result"
    }
   ],
   "source": [
    "country_mapping = {\n",
    "    'AD': 'Andorra', 'AE': 'United Arab Emirates', 'AI': 'Anguilla', 'AQ': 'Antarctica', \n",
    "    'AR': 'Argentina', 'AT': 'Austria', 'AU': 'Australia', 'BE': 'Belgium', 'BG': 'Bulgaria',\n",
    "    'BN': 'Brunei', 'BO': 'Bolivia', 'BR': 'Brazil', 'CA': 'Canada', 'CH': 'Switzerland',\n",
    "    'CL': 'Chile', 'CN': 'China', 'CO': 'Colombia', 'CR': 'Costa Rica', 'CY': 'Cyprus',\n",
    "    'CZ': 'Czech Republic', 'DE': 'Germany', 'DK': 'Denmark', 'EC': 'Ecuador', 'EE': 'Estonia',\n",
    "    'ES': 'Spain', 'FI': 'Finland', 'FR': 'France', 'GB': 'United Kingdom', 'GF': 'French Guiana',\n",
    "    'GG': 'Guernsey', 'GP': 'Guadeloupe', 'GR': 'Greece', 'GT': 'Guatemala', 'HK': 'Hong Kong',\n",
    "    'HR': 'Croatia', 'HU': 'Hungary', 'ID': 'Indonesia', 'IE': 'Ireland', 'IL': 'Israel',\n",
    "    'IM': 'Isle of Man', 'IN': 'India', 'IR': 'Iran', 'IS': 'Iceland', 'IT': 'Italy',\n",
    "    'JE': 'Jersey', 'JO': 'Jordan', 'JP': 'Japan', 'KR': 'South Korea', 'KZ': 'Kazakhstan',\n",
    "    'LT': 'Lithuania', 'LU': 'Luxembourg', 'LV': 'Latvia', 'MA': 'Morocco', 'MC': 'Monaco',\n",
    "    'ME': 'Montenegro', 'MO': 'Macau', 'MQ': 'Martinique', 'MT': 'Malta', 'MU': 'Mauritius',\n",
    "    'MX': 'Mexico', 'MY': 'Malaysia', 'NC': 'New Caledonia', 'NL': 'Netherlands', 'NO': 'Norway',\n",
    "    'NZ': 'New Zealand', 'PE': 'Peru', 'PF': 'French Polynesia', 'PH': 'Philippines', 'PL': 'Poland',\n",
    "    'PT': 'Portugal', 'QA': 'Qatar', 'RE': 'Réunion', 'RO': 'Romania', 'RS': 'Serbia', 'RU': 'Russia',\n",
    "    'SA': 'Saudi Arabia', 'SE': 'Sweden', 'SG': 'Singapore', 'SI': 'Slovenia', 'SK': 'Slovakia',\n",
    "    'SM': 'San Marino', 'SN': 'Senegal', 'SS': 'South Sudan', 'TH': 'Thailand', 'TR': 'Turkey',\n",
    "    'TW': 'Taiwan', 'UA': 'Ukraine', 'US': 'United States', 'UY': 'Uruguay', 'VE': 'Venezuela',\n",
    "    'VN': 'Vietnam', 'ZA': 'South Africa'\n",
    "}\n",
    "len(country_mapping)"
   ]
  },
  {
   "cell_type": "code",
   "execution_count": 8,
   "id": "477e8f4b",
   "metadata": {},
   "outputs": [
    {
     "name": "stdout",
     "output_type": "stream",
     "text": [
      "   Nationality      Nationality Name\n",
      "0           AD               Andorra\n",
      "1           AE  United Arab Emirates\n",
      "2           AI              Anguilla\n",
      "3           AQ            Antarctica\n",
      "4           AR             Argentina\n",
      "..         ...                   ...\n",
      "87          US         United States\n",
      "88          UY               Uruguay\n",
      "89          VE             Venezuela\n",
      "90          VN               Vietnam\n",
      "91          ZA          South Africa\n",
      "\n",
      "[92 rows x 2 columns]\n"
     ]
    }
   ],
   "source": [
    "# Convert dictionary to DataFrame\n",
    "country_df = pd.DataFrame(list(country_mapping.items()), columns=['Nationality', 'Nationality Name'])\n",
    "\n",
    "print(country_df)\n",
    "\n",
    "country_df .to_excel(f'Database Data/TORX_100x100trail_nationality_table.xlsx', sheet_name = 'Nationality Code', index = False)"
   ]
  },
  {
   "cell_type": "code",
   "execution_count": null,
   "id": "718cea28",
   "metadata": {},
   "outputs": [],
   "source": []
  },
  {
   "cell_type": "code",
   "execution_count": null,
   "id": "1914a729",
   "metadata": {},
   "outputs": [],
   "source": []
  },
  {
   "cell_type": "code",
   "execution_count": null,
   "id": "93e44f17",
   "metadata": {},
   "outputs": [],
   "source": []
  },
  {
   "cell_type": "code",
   "execution_count": null,
   "id": "e04eec42",
   "metadata": {},
   "outputs": [],
   "source": []
  },
  {
   "cell_type": "code",
   "execution_count": 15,
   "id": "4243b0a8",
   "metadata": {},
   "outputs": [
    {
     "name": "stdout",
     "output_type": "stream",
     "text": [
      "79\n",
      "['FRA', 'ITA', 'GBR', 'GER', 'ESP', 'USA', 'POL', 'NEP', 'SUI', 'NZL', 'DEN', 'CYP', 'BEL', 'CHN', 'TUR', 'SMR', 'NED', 'AUT', 'GRE', 'POR', 'SGP', 'MAR', 'NOR', 'SWE', 'CZE', 'CAN', 'JPN', 'BRA', 'IRL', 'FIN', 'UKR', 'BUL', 'MAS', 'MEX', 'LTU', 'GUA', 'KOR', 'CRC', 'ARG', 'RUS', 'ROU', 'SRB', 'AUS', 'HKG', 'INA', 'SVK', 'THA', 'SLO', 'EST', 'URU', 'KAZ', 'CRO', 'HUN', 'RSA', 'PHI', 'MRI', 'ISL', 'TPE', 'VIE', 'ALG', 'ECU', 'QAT', 'LAT', 'AND', 'CHI', 'CHE', 'MNE', 'PER', 'COL', 'IND', 'KEN', 'MDA', 'MON', 'LUX', 'ESA', 'ISR', 'LBN', 'BRU', 'PRT']\n"
     ]
    }
   ],
   "source": [
    "\n",
    "unique_nationalities_list = []\n",
    "# Initialize a set to store unique nationalities\n",
    "\n",
    "df = pd.read_excel(f'Database Data/TORX_itra_no_DNF.xlsx')\n",
    "\n",
    "df['ITRA_Nationality'] = df['ITRA_Nationality'].str.strip()\n",
    "\n",
    "# Get unique nationalities for the year and update the set\n",
    "unique_nationalities = list(df['ITRA_Nationality'].unique())\n",
    "\n",
    "\n",
    "print(len(unique_nationalities))\n",
    "print(unique_nationalities)\n"
   ]
  },
  {
   "cell_type": "code",
   "execution_count": 16,
   "id": "7f09ed5a",
   "metadata": {},
   "outputs": [],
   "source": [
    "country_mapping = {\n",
    "    'FRA': 'France', 'ITA': 'Italy', 'GBR': 'United Kingdom', 'GER': 'Germany', 'ESP': 'Spain', \n",
    "    'USA': 'United States', 'POL': 'Poland', 'NEP': 'Nepal', 'SUI': 'Switzerland', 'NZL': 'New Zealand', \n",
    "    'DEN': 'Denmark', 'CYP': 'Cyprus', 'BEL': 'Belgium', 'CHN': 'China', 'TUR': 'Turkey', \n",
    "    'SMR': 'San Marino', 'NED': 'Netherlands', 'AUT': 'Austria', 'GRE': 'Greece', 'POR': 'Portugal', \n",
    "    'SGP': 'Singapore', 'MAR': 'Morocco', 'NOR': 'Norway', 'SWE': 'Sweden', 'CZE': 'Czech Republic', \n",
    "    'CAN': 'Canada', 'JPN': 'Japan', 'BRA': 'Brazil', 'IRL': 'Ireland', 'FIN': 'Finland', \n",
    "    'UKR': 'Ukraine', 'BUL': 'Bulgaria', 'MAS': 'Malaysia', 'MEX': 'Mexico', 'LTU': 'Lithuania', \n",
    "    'GUA': 'Guatemala', 'KOR': 'South Korea', 'CRC': 'Costa Rica', 'ARG': 'Argentina', 'RUS': 'Russia', \n",
    "    'ROU': 'Romania', 'SRB': 'Serbia', 'AUS': 'Australia', 'HKG': 'Hong Kong', 'INA': 'Indonesia', \n",
    "    'SVK': 'Slovakia', 'THA': 'Thailand', 'SLO': 'Slovenia', 'EST': 'Estonia', 'URU': 'Uruguay', \n",
    "    'KAZ': 'Kazakhstan', 'CRO': 'Croatia', 'HUN': 'Hungary', 'RSA': 'South Africa', 'PHI': 'Philippines', \n",
    "    'MRI': 'Mauritius', 'ISL': 'Iceland', 'TPE': 'Taiwan', 'VIE': 'Vietnam', 'ALG': 'Algeria', \n",
    "    'ECU': 'Ecuador', 'QAT': 'Qatar', 'LAT': 'Latvia', 'AND': 'Andorra', 'CHI': 'Chile', \n",
    "    'CHE': 'Switzerland', 'MNE': 'Montenegro', 'PER': 'Peru', 'COL': 'Colombia', 'IND': 'India', \n",
    "    'KEN': 'Kenya', 'MDA': 'Moldova', 'MON': 'Monaco', 'LUX': 'Luxembourg', 'ESA': 'El Salvador', \n",
    "    'ISR': 'Israel', 'LBN': 'Lebanon', 'BRU': 'Brunei', 'PRT': 'Portugal'\n",
    "}\n"
   ]
  },
  {
   "cell_type": "code",
   "execution_count": 17,
   "id": "6bf47414",
   "metadata": {},
   "outputs": [
    {
     "name": "stdout",
     "output_type": "stream",
     "text": [
      "   Nationality Nationality Name\n",
      "0          FRA           France\n",
      "1          ITA            Italy\n",
      "2          GBR   United Kingdom\n",
      "3          GER          Germany\n",
      "4          ESP            Spain\n",
      "..         ...              ...\n",
      "74         ESA      El Salvador\n",
      "75         ISR           Israel\n",
      "76         LBN          Lebanon\n",
      "77         BRU           Brunei\n",
      "78         PRT         Portugal\n",
      "\n",
      "[79 rows x 2 columns]\n"
     ]
    }
   ],
   "source": [
    "# Convert dictionary to DataFrame\n",
    "country_df = pd.DataFrame(list(country_mapping.items()), columns=['Nationality', 'Nationality Name'])\n",
    "\n",
    "print(country_df)\n",
    "\n",
    "country_df .to_excel(f'Database Data/TORX_ITRA_nationality_table.xlsx', sheet_name = 'Nationality Code', index = False)"
   ]
  },
  {
   "cell_type": "code",
   "execution_count": null,
   "id": "6a251051",
   "metadata": {},
   "outputs": [],
   "source": []
  },
  {
   "cell_type": "code",
   "execution_count": null,
   "id": "dbcf6df2",
   "metadata": {},
   "outputs": [],
   "source": []
  },
  {
   "cell_type": "code",
   "execution_count": null,
   "id": "cc68d4e4",
   "metadata": {},
   "outputs": [],
   "source": []
  },
  {
   "cell_type": "code",
   "execution_count": null,
   "id": "5d212945",
   "metadata": {},
   "outputs": [],
   "source": []
  },
  {
   "cell_type": "code",
   "execution_count": null,
   "id": "caa54009",
   "metadata": {},
   "outputs": [],
   "source": []
  },
  {
   "cell_type": "code",
   "execution_count": null,
   "id": "12faa5d1",
   "metadata": {},
   "outputs": [],
   "source": []
  },
  {
   "cell_type": "code",
   "execution_count": null,
   "id": "eedc9915",
   "metadata": {},
   "outputs": [],
   "source": []
  },
  {
   "cell_type": "code",
   "execution_count": null,
   "id": "c76c1536",
   "metadata": {},
   "outputs": [],
   "source": []
  },
  {
   "cell_type": "code",
   "execution_count": null,
   "id": "341fc914",
   "metadata": {},
   "outputs": [],
   "source": []
  },
  {
   "cell_type": "code",
   "execution_count": null,
   "id": "47d836b4",
   "metadata": {},
   "outputs": [],
   "source": []
  },
  {
   "cell_type": "code",
   "execution_count": null,
   "id": "77cf24e3",
   "metadata": {},
   "outputs": [],
   "source": []
  },
  {
   "cell_type": "code",
   "execution_count": null,
   "id": "43ae11bc",
   "metadata": {},
   "outputs": [],
   "source": []
  },
  {
   "cell_type": "code",
   "execution_count": null,
   "id": "afac6b99",
   "metadata": {},
   "outputs": [],
   "source": []
  },
  {
   "cell_type": "code",
   "execution_count": null,
   "id": "911318d4",
   "metadata": {},
   "outputs": [],
   "source": []
  },
  {
   "cell_type": "code",
   "execution_count": null,
   "id": "1e4bc94d",
   "metadata": {},
   "outputs": [],
   "source": []
  },
  {
   "cell_type": "code",
   "execution_count": null,
   "id": "a31a9162",
   "metadata": {},
   "outputs": [],
   "source": []
  },
  {
   "cell_type": "code",
   "execution_count": null,
   "id": "7b3a8921",
   "metadata": {},
   "outputs": [],
   "source": []
  }
 ],
 "metadata": {
  "kernelspec": {
   "display_name": "Python 3 (ipykernel)",
   "language": "python",
   "name": "python3"
  },
  "language_info": {
   "codemirror_mode": {
    "name": "ipython",
    "version": 3
   },
   "file_extension": ".py",
   "mimetype": "text/x-python",
   "name": "python",
   "nbconvert_exporter": "python",
   "pygments_lexer": "ipython3",
   "version": "3.9.13"
  }
 },
 "nbformat": 4,
 "nbformat_minor": 5
}
